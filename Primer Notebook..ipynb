{
 "cells": [
  {
   "cell_type": "markdown",
   "metadata": {},
   "source": [
    "# Este es mi primer programa en una Jupyter Notebook.\n",
    "\n",
    "## Según el Doctor Moisés Cywiak, del Centro de Investigaciones en Óptica, el primer código de cualquier persona que esté aprendiendo algún lenguaje de programación debe ser uno que imprima la frase \"Hola mundo\". De no ser así, el programador principiante corre el riesgo de la maldición gitana caiga sobre él o ella."
   ]
  },
  {
   "cell_type": "code",
   "execution_count": 1,
   "metadata": {},
   "outputs": [
    {
     "name": "stdout",
     "output_type": "stream",
     "text": [
      "Hello world\n"
     ]
    }
   ],
   "source": [
    "print(\"Hello world\")"
   ]
  },
  {
   "cell_type": "code",
   "execution_count": 3,
   "metadata": {},
   "outputs": [
    {
     "name": "stdout",
     "output_type": "stream",
     "text": [
      "'Primer Notebook..ipynb'\r\n"
     ]
    }
   ],
   "source": [
    "! ls"
   ]
  },
  {
   "cell_type": "code",
   "execution_count": 5,
   "metadata": {},
   "outputs": [
    {
     "data": {
      "text/plain": [
       "'/home/fernando/Documentos/Maestría/Tercer/Tesis/Jupyter Notebooks'"
      ]
     },
     "execution_count": 5,
     "metadata": {},
     "output_type": "execute_result"
    }
   ],
   "source": [
    "%pwd"
   ]
  },
  {
   "cell_type": "code",
   "execution_count": 6,
   "metadata": {
    "scrolled": true
   },
   "outputs": [
    {
     "data": {
      "text/plain": [
       "'/home/fernando/Documentos/Maestría/Tercer/Tesis/Jupyter Notebooks'"
      ]
     },
     "execution_count": 6,
     "metadata": {},
     "output_type": "execute_result"
    }
   ],
   "source": [
    "pwd"
   ]
  },
  {
   "cell_type": "markdown",
   "metadata": {},
   "source": [
    "# Ahora veremos cómo se ponen links a páginas web dentro de una notebook de Jupyter. Hay varias maneras."
   ]
  },
  {
   "cell_type": "markdown",
   "metadata": {},
   "source": [
    "\n",
    "## Manera 1. \n",
    "\n",
    "### Esta consiste simplemente en poner la url entre comillas en una celda tipo Markdown, como se muestra a continuación.\n",
    "\n",
    "### \"https://www.youtube.com/watch?v=HW29067qVWk&t=559s%22\""
   ]
  },
  {
   "cell_type": "markdown",
   "metadata": {},
   "source": [
    "## Manera 2.\n",
    "\n",
    "### Esta consiste en usar un comando propio de HTML (el de poner la url entre comillas también es propio de HTML, por cierto). El comando es < a href = \" url_que_quieras \" > Texto cliqueable < / a >. Este debe reproducirse sin los espacios puestos aquí (Excepto en la parte del texto cliqueable, uno puede poner cualquier cosa allí). El resultado se muestra a continuación.  \n",
    "\n",
    "### <a href=\"https://www.youtube.com/watch?v=HW29067qVWk&t=559s%22\">Vídeo del canal de Corey Schafer sobre Jupyter notebooks</a>"
   ]
  },
  {
   "cell_type": "markdown",
   "metadata": {},
   "source": [
    "# Ahora veamos qué pasa cuando queremos usar ecuaciones en una Notebook."
   ]
  },
  {
   "cell_type": "markdown",
   "metadata": {},
   "source": [
    "\n",
    "\n",
    "## Una manera sencilla es utilizar una celda markdown y poner nuestra ecuación entre signos de dólares, como si de latex se tratara. Veamos esto con la ley de no existencia de monopolos magnéticos, la segunda de las 4 leyes de Maxwell.\n",
    "\n",
    "$\\nabla \\cdot B = 0$"
   ]
  },
  {
   "cell_type": "markdown",
   "metadata": {},
   "source": [
    "## Luce bien ¿no es cierto? Otra manera de poner ecuaciones en una notebook de Jupyter es escribir la ecuación de nuevo en formato latex, pero ahora entre dos pares de símbolos de dólar. Veamos cómo resulta con la ecuación de Schrödinger.\n",
    "\n",
    "$$ \\left[ -\\frac{\\hbar ^{2}}{2m} \\nabla^{2} + V \\right] \\psi = i \\hbar \\frac{ \\partial \\psi}{\\partial t}$$\n",
    "\n",
    "## Como se ve, ahora la ecuación está centrada, pero no numerada."
   ]
  },
  {
   "cell_type": "markdown",
   "metadata": {},
   "source": [
    "# Ahora veamos cómo compartir esta notebook de Jupyter. \n",
    "\n",
    "## Existen varias maneras. Todas ellas recaen en darle clic a la pestaña \"File\" y luego darle clic a \"Download as\". Luego, aparecerán varias opciones. La manera más sencilla para compartir esta notebook, y cualquier otra, sería seleccionando la opción \"HTML\"."
   ]
  },
  {
   "cell_type": "code",
   "execution_count": null,
   "metadata": {},
   "outputs": [],
   "source": []
  }
 ],
 "metadata": {
  "kernelspec": {
   "display_name": "Python 3",
   "language": "python",
   "name": "python3"
  },
  "language_info": {
   "codemirror_mode": {
    "name": "ipython",
    "version": 3
   },
   "file_extension": ".py",
   "mimetype": "text/x-python",
   "name": "python",
   "nbconvert_exporter": "python",
   "pygments_lexer": "ipython3",
   "version": "3.7.6"
  }
 },
 "nbformat": 4,
 "nbformat_minor": 4
}
