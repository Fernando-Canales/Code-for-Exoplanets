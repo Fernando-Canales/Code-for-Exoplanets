{
 "cells": [
  {
   "cell_type": "markdown",
   "metadata": {},
   "source": [
    "# Solving $x^{x} = 100$ with Newton-Rapshon's method.\n",
    "\n",
    "## Newton-Raphson's iterative method consist in the following formula:\n",
    "\n",
    "$$ x_{n +1} = x_{n} - \\frac{f(x_{n})}{f'(x_{n})}$$"
   ]
  },
  {
   "cell_type": "code",
   "execution_count": 22,
   "metadata": {},
   "outputs": [
    {
     "name": "stdout",
     "output_type": "stream",
     "text": [
      "The approximate root is: 3.60950982157403\n",
      "The approximate root is: 3.5974629076846942\n",
      "The approximate root is: 3.5972850615398895\n",
      "The approximate root is: 3.5972850235404192\n"
     ]
    }
   ],
   "source": [
    "#Import main libraries\n",
    "import numpy as np\n",
    "import matplotlib.pyplot as plt\n",
    "%matplotlib inline\n",
    "\n",
    "#Define the function\n",
    "def f(x):\n",
    "    return x**x -100\n",
    "\n",
    "#Now define its derivative\n",
    "def Df(x):\n",
    "    return x**x*(1+np.log(x))\n",
    "\n",
    "#Now let's give the initial value x0\n",
    "\n",
    "x0 = 3.5\n",
    "\n",
    "#Now create the iterations in order to find the solution\n",
    "for iteration in range(1,5):\n",
    "    x1=x0 - f(x0)/Df(x0)\n",
    "    x0 = x1\n",
    "    print(\"The approximate root is:\",x0)"
   ]
  },
  {
   "cell_type": "markdown",
   "metadata": {},
   "source": [
    "## Now let's see if this value is right!"
   ]
  },
  {
   "cell_type": "code",
   "execution_count": 23,
   "metadata": {},
   "outputs": [
    {
     "name": "stdout",
     "output_type": "stream",
     "text": [
      "Making the product x0^x0: 100.0000000000004\n"
     ]
    },
    {
     "data": {
      "image/png": "[encoded data removed]",
      "text/plain": [
       "<Figure size 432x288 with 1 Axes>"
      ]
     },
     "metadata": {
      "needs_background": "light"
     },
     "output_type": "display_data"
    }
   ],
   "source": [
    "print(\"Making the product x0^x0:\",x0**x0 )\n",
    "\n",
    "#Now let's see the root on a plot\n",
    "x = np.arange(0,4,0.2)\n",
    "#This line plot the function (blue curve)\n",
    "plt.plot(x,f(x))\n",
    "#This line puts the red dot root on the curve\n",
    "plt.plot(x0,f(x0), 'or')\n",
    "plt.grid()\n",
    "plt.show()"
   ]
  },
  {
   "cell_type": "markdown",
   "metadata": {},
   "source": [
    "## Now let's see if i can put a dot on the plot for every iteration in order to see how the numeric method improve the output with every iteration!"
   ]
  },
  {
   "cell_type": "code",
   "execution_count": 61,
   "metadata": {},
   "outputs": [
    {
     "data": {
      "image/png": "[encoded data removed]",
      "text/plain": [
       "<Figure size 432x288 with 1 Axes>"
      ]
     },
     "metadata": {
      "needs_background": "light"
     },
     "output_type": "display_data"
    },
    {
     "name": "stdout",
     "output_type": "stream",
     "text": [
      "The approximate root is: 3.5972850235404192\n"
     ]
    }
   ],
   "source": [
    "#Import main libraries\n",
    "import numpy as np\n",
    "import matplotlib.pyplot as plt\n",
    "%matplotlib inline\n",
    "\n",
    "#Define the function\n",
    "def f(x):\n",
    "    return x**x -100\n",
    "\n",
    "#Now define its derivative\n",
    "def Df(x):\n",
    "    return x**x*(1+np.log(x))\n",
    "\n",
    "#Now let's give the initial value x0\n",
    "x0 = 3.5\n",
    "x = np.arange(0,4,0.2)\n",
    "#This line plot the function (blue curve)\n",
    "plt.plot(x,f(x))\n",
    "#Now create the iterations in order to find the solution\n",
    "for iteration in range(1,5):\n",
    "    x1=x0 - f(x0)/Df(x0)\n",
    "    x0 = x1\n",
    "#This line puts the red dot root on the curve\n",
    "    plt.plot(x0,f(x0), 'or')\n",
    "\n",
    "#Let's make a little zoom to see the points\n",
    "plt.ylim(-20,20)\n",
    "#plt.xlim(3.59700002,3.597500005)\n",
    "plt.grid()\n",
    "plt.show()\n",
    "    \n",
    "print(\"The approximate root is:\",x0)"
   ]
  },
  {
   "cell_type": "markdown",
   "metadata": {},
   "source": [
    "## It just puts two dots because the last three roots are so close to each other that python cannot put it as different dots! This of course would change if I zoom the x-axis."
   ]
  },
  {
   "cell_type": "code",
   "execution_count": null,
   "metadata": {},
   "outputs": [],
   "source": []
  }
 ],
 "metadata": {
  "kernelspec": {
   "display_name": "Python 3",
   "language": "python",
   "name": "python3"
  },
  "language_info": {
   "codemirror_mode": {
    "name": "ipython",
    "version": 3
   },
   "file_extension": ".py",
   "mimetype": "text/x-python",
   "name": "python",
   "nbconvert_exporter": "python",
   "pygments_lexer": "ipython3",
   "version": "3.7.6"
  }
 },
 "nbformat": 4,
 "nbformat_minor": 4
}
