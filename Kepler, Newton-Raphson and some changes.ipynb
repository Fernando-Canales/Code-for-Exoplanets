{
 "cells": [
  {
   "cell_type": "markdown",
   "metadata": {},
   "source": [
    "# Solving Kepler's equation with Newton-Raphson's method.\n",
    "## Kepler's equation is the following:\n",
    "\n",
    "$$ M = E -esinE$$\n",
    "\n",
    "## This equation has to be solved numerically. In this notebook I will solve it using Newton-Raphson's method. The *quid* of this is the following formula:\n",
    "\n",
    "\n",
    "$$ x_{n+1}= x_{n} - \\frac{f(x_{n})}{f'(x_{n})}$$\n",
    "\n",
    "## In this case, I will find the root of the following equation involving Kepler's equation:\n",
    "$$ g(E) = E - esinE - M $$"
   ]
  },
  {
   "cell_type": "code",
   "execution_count": 1,
   "metadata": {},
   "outputs": [
    {
     "name": "stdout",
     "output_type": "stream",
     "text": [
      "For iteration number 1 , the aproximate root is E: 0.9645257607959048\n",
      "For iteration number 2 , the aproximate root is E: 0.9225208202429863\n",
      "For iteration number 3 , the aproximate root is E: 0.9220066807892194\n",
      "For iteration number 4 , the aproximate root is E: 0.9220066053171304\n",
      "For iteration number 5 , the aproximate root is E: 0.9220066053171289\n"
     ]
    }
   ],
   "source": [
    "#Import main libraries\n",
    "import numpy as np\n",
    "import matplotlib.pyplot as plt\n",
    "\n",
    "#Now I define the function which root I am going to find\n",
    "def g_E(E,params):\n",
    "    M = params[0]\n",
    "    e = params[1]  \n",
    "    g = E - e*np.sin(E) - M\n",
    "    return g\n",
    "\n",
    "#Now its time to define its derivative with respecto to 'E'\n",
    "def Dif_g(E,params):\n",
    "    M = params[0]\n",
    "    e = params[1]\n",
    "    Dg = 1 - e*np.cos(E)\n",
    "    return Dg\n",
    "\n",
    "#Now I will give the inital value of E and some other needed values\n",
    "M = np.pi/6\n",
    "e = 0.5\n",
    "E0 = M\n",
    "error = 10\n",
    "i = 1\n",
    "\n",
    "#Now I will create the iterations\n",
    "while error > 1e-10 :\n",
    "    #This line is the quid of Newton-Raphson's method\n",
    "    E1 = E0 - g_E(E0, [M,e])/Dif_g(E0,[M,e])\n",
    "    #This line computes the error between the old and new apporximated roots\n",
    "    error = np.abs(E1-E0)\n",
    "    #This line re-wrties the value of the old approximation in order to do the iterations\n",
    "    E0 = E1\n",
    "    print(\"For iteration number\", i,\", the aproximate root is E:\",E0)\n",
    "    i = i + 1\n"
   ]
  },
  {
   "cell_type": "markdown",
   "metadata": {},
   "source": [
    "## Now it's time to find $r$ and $f$. Assuming $a = 0.03 AU$:\n",
    "\n",
    " $$ r = 0.03[AU](1-cos(0.9220066053171289) = 0.019[AU]$$\n",
    " \n",
    " ## And:\n",
    " \n",
    " $$  f = cos^{-1} ( \\frac{1}{e} (\\frac{a(1-e^{2})}{r} -1) ) = 1.19 rad$$\n",
    " \n",
    " ## Let's make a RV function.\n",
    " \n",
    " $$v_{r} = v_{z} + K[ cos(\\omega)cos(f) -sin(\\omega)sin(f) + ecos(\\omega)] $$\n",
    " \n",
    " ## We have to assume some value of $\\omega$. And in order to make this last equaiton time-dependent, I have to put $f$ in terms of $M = \\frac{2\\pi(t-t_{0})}{T}$. I know from solving Kepler's equaiton numerically that $M = \\frac{\\pi}{6}$. So $ M = \\frac{12(t-t_{0})}{T}$. Also, I know that:\n",
    " \n",
    " $$f = M + (2e - \\frac{1}{4}e^{3})sinM + \\frac{5}{4}e^{2}sin2M + \\frac{13}{12}e^{3}sin3M + ... $$\n",
    " \n",
    " ## So let's do some coding.\n",
    "\n",
    " "
   ]
  },
  {
   "cell_type": "code",
   "execution_count": 8,
   "metadata": {},
   "outputs": [
    {
     "data": {
      "text/plain": [
       "Text(0.5, 1.0, 'RV plot with e = 0.001')"
      ]
     },
     "execution_count": 8,
     "metadata": {},
     "output_type": "execute_result"
    },
    {
     "data": {
      "image/png": "[encoded data removed]",
      "text/plain": [
       "<Figure size 432x288 with 1 Axes>"
      ]
     },
     "metadata": {
      "needs_background": "light"
     },
     "output_type": "display_data"
    }
   ],
   "source": [
    "#Import main libraries\n",
    "import numpy as np\n",
    "import matplotlib.pyplot as plt\n",
    "%matplotlib inline\n",
    "\n",
    "#Now I write first the function that compute the true anomaly f:\n",
    "#t0 -> time of passage of periastron\n",
    "#M  -> Mean anomaly\n",
    "#f  -> True anomally\n",
    "#e  -> Excentricity \n",
    "def true_f(t,params):\n",
    "    t0 = params[0]\n",
    "    M  = params[1]\n",
    "    #This line takes into account the first 4 terms of the Fourier's expansion of \"f\"\n",
    "    f  = M + (2*(e) - (e**3)/4)*np.sin(M) + (5/4)*(e**2)*np.sin(2*M) + (13/12)*(e**3)*np.sin(3*M)\n",
    "    return f\n",
    "\n",
    "#Now I give some values for the time and for the params:\n",
    "t  = np.arange(0,20,0.001) #with a point in the plot every 0.001 days\n",
    "t0 = 13 #days\n",
    "M = 12*(t-t0)/T # radians\n",
    "\n",
    "\n",
    "#I write now the RV function:\n",
    "#K  -> Doppler semi amplitude\n",
    "#vZ -> Proper motion of the barycenter (or star's systemic velocity)\n",
    "#w  -> argument of periapsis\n",
    "#T  -> Orbital period\n",
    "\n",
    "def calcula_RV(f,parametros):\n",
    "    vz = parametros[0]\n",
    "    K  = parametros[1]\n",
    "    T  = parametros[2]\n",
    "    w  = parametros[3]\n",
    "    e  = parametros[4]\n",
    "    vr = vz + K*(np.cos(w)*np.cos(f) - np.sin(w)*np.sin(f) + e*np.cos(w))\n",
    "    return vr\n",
    "\n",
    "\n",
    "#Now I give some values to all the parameters:\n",
    "vz = -40 #km/s\n",
    "K  = 0.7 #km/s\n",
    "T  = 15   #days\n",
    "w  = 0.5756  #radians (33°)\n",
    "e  = 0.001\n",
    "\n",
    "#Now I call first the function that computes the true anomaly:\n",
    "f = true_f(t,[t0,M])\n",
    "\n",
    "#Now I call the RV function:\n",
    "vr = calcula_RV(f, [vz,K,T,w,e])\n",
    "\n",
    "#Now I plot RV as a function of time\n",
    "plt.plot(t,vr)\n",
    "plt.title('RV plot with e = 0.001')\n",
    "\n"
   ]
  },
  {
   "cell_type": "markdown",
   "metadata": {},
   "source": [
    "## Now I change the eccentricity to $e = 0.5$"
   ]
  },
  {
   "cell_type": "code",
   "execution_count": 5,
   "metadata": {},
   "outputs": [
    {
     "data": {
      "text/plain": [
       "Text(0.5, 1.0, 'RV plot with e = 0.5')"
      ]
     },
     "execution_count": 5,
     "metadata": {},
     "output_type": "execute_result"
    },
    {
     "data": {
      "image/png": "[encoded data removed]",
      "text/plain": [
       "<Figure size 432x288 with 1 Axes>"
      ]
     },
     "metadata": {
      "needs_background": "light"
     },
     "output_type": "display_data"
    }
   ],
   "source": [
    "#Import main libraries\n",
    "import numpy as np\n",
    "import matplotlib.pyplot as plt\n",
    "%matplotlib inline\n",
    "\n",
    "#Now I write first the function that compute the true anomaly f:\n",
    "#f  -> True anomally\n",
    "#e  -> Excentricity \n",
    "def true_f(t,params):\n",
    "    t0 = params[0]\n",
    "    M  = params[1]\n",
    "    #This line takes into account the first 4 terms of the Fourier's expansion of \"f\"\n",
    "    f  = M + (2*(e) - (e**3)/4)*np.sin(M) + (5/4)*(e**2)*np.sin(2*M) + (13/12)*(e**3)*np.sin(3*M)\n",
    "    return f\n",
    "\n",
    "#Now I give some values for the params:\n",
    "t  = np.arange(0,20,0.001)\n",
    "t0 = 13 #days\n",
    "M = 12*(t-t0)/T\n",
    "e  = 0.5\n",
    "\n",
    "#I write now the RV function:\n",
    "#K  -> Doppler semi amplitude\n",
    "#vZ -> Proper motion of the barycenter (or star's systemic velocity)\n",
    "#w  -> argument of periapsis\n",
    "#T  -> Orbital period\n",
    "\n",
    "def calcula_RV(f,parametros):\n",
    "    vz = parametros[0]\n",
    "    K  = parametros[1]\n",
    "    T  = parametros[2]\n",
    "    w  = parametros[3]\n",
    "    e  = parametros[4]\n",
    "    vr = vz + K*(np.cos(w)*np.cos(f) - np.sin(w)*np.sin(f) + e*np.cos(w))\n",
    "    return vr\n",
    "\n",
    "\n",
    "#Now I give some values to all the parameters:\n",
    "vz = -40 #km/s\n",
    "K  = 0.7 #km/s\n",
    "T  = 15   #days\n",
    "w  = 0.5756 #radians (33°)\n",
    "\n",
    "\n",
    "#Now I call first the function that computes the true anomaly:\n",
    "f = true_f(t,[t0,M])\n",
    "\n",
    "#Now I call the RV function:\n",
    "vr = calcula_RV(f, [vz,K,T,w,e])\n",
    "\n",
    "#Now I plot RV as a function of time\n",
    "plt.plot(t,vr)\n",
    "plt.title('RV plot with e = 0.5')\n"
   ]
  },
  {
   "cell_type": "markdown",
   "metadata": {},
   "source": [
    "## Now I change the eccentricity to $e = 0.7$."
   ]
  },
  {
   "cell_type": "code",
   "execution_count": 7,
   "metadata": {},
   "outputs": [
    {
     "data": {
      "text/plain": [
       "Text(0.5, 1.0, 'RV plot with e = 0.7')"
      ]
     },
     "execution_count": 7,
     "metadata": {},
     "output_type": "execute_result"
    },
    {
     "data": {
      "image/png": "[encoded data removed]",
      "text/plain": [
       "<Figure size 432x288 with 1 Axes>"
      ]
     },
     "metadata": {
      "needs_background": "light"
     },
     "output_type": "display_data"
    }
   ],
   "source": [
    "#Import main libraries\n",
    "import numpy as np\n",
    "import matplotlib.pyplot as plt\n",
    "%matplotlib inline\n",
    "\n",
    "#Now I write first the function that computes the true anomaly f:\n",
    "#t0 -> time of passage of periastron\n",
    "#M  -> Mean anomal\n",
    "#f  -> True anomaly\n",
    "#e  -> Eccentricity \n",
    "def true_f(t,params):\n",
    "    t0 = params[0]\n",
    "    M  = params[1]\n",
    "    #This line takes into account the first 4 terms of the Fourier's expansion of \"f\"\n",
    "    f  = M + (2*(e) - (e**3)/4)*np.sin(M) + (5/4)*(e**2)*np.sin(2*M) + (13/12)*(e**3)*np.sin(3*M)\n",
    "    return f\n",
    "\n",
    "#Now I give some values for the params:\n",
    "t  = np.arange(0,20,0.001)\n",
    "t0 = 13 #days\n",
    "M = 12*(t-t0)/T\n",
    "\n",
    "\n",
    "#I write now the RV function:\n",
    "#K  -> Doppler semi amplitude\n",
    "#vZ -> Proper motion of the barycenter (or star's systemic velocity)\n",
    "#w  -> argument of periapsis\n",
    "#T  -> Orbital period\n",
    "\n",
    "def calcula_RV(f,parametros):\n",
    "    vz = parametros[0]\n",
    "    K  = parametros[1]\n",
    "    T  = parametros[2]\n",
    "    w  = parametros[3]\n",
    "    e  = parametros[4]\n",
    "    vr = vz + K*(np.cos(w)*np.cos(f) - np.sin(w)*np.sin(f) + e*np.cos(w))\n",
    "    return vr\n",
    "\n",
    "\n",
    "#Now I give some values to all the parameters:\n",
    "vz = -40 #km/s\n",
    "K  = 0.7 #km/s\n",
    "T  = 15   #days\n",
    "w  = 0.5756  #radians (33°)\n",
    "e  = 0.7\n",
    "\n",
    "#Now I call first the function that computes the true anomaly:\n",
    "f = true_f(t,[t0,M])\n",
    "\n",
    "#Now I call the RV function:\n",
    "vr = calcula_RV(f, [vz,K,T,w,e])\n",
    "\n",
    "#Now I plot RV as a function of time\n",
    "plt.plot(t,vr)\n",
    "plt.title('RV plot with e = 0.7')"
   ]
  },
  {
   "cell_type": "code",
   "execution_count": null,
   "metadata": {},
   "outputs": [],
   "source": []
  }
 ],
 "metadata": {
  "kernelspec": {
   "display_name": "Python 3",
   "language": "python",
   "name": "python3"
  },
  "language_info": {
   "codemirror_mode": {
    "name": "ipython",
    "version": 3
   },
   "file_extension": ".py",
   "mimetype": "text/x-python",
   "name": "python",
   "nbconvert_exporter": "python",
   "pygments_lexer": "ipython3",
   "version": "3.7.6"
  }
 },
 "nbformat": 4,
 "nbformat_minor": 4
}
